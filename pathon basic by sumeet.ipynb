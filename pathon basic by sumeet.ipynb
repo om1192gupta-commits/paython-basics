{
  "nbformat": 4,
  "nbformat_minor": 0,
  "metadata": {
    "colab": {
      "provenance": []
    },
    "kernelspec": {
      "name": "python3",
      "display_name": "Python 3"
    },
    "language_info": {
      "name": "python"
    }
  },
  "cells": [
    {
      "cell_type": "code",
      "execution_count": null,
      "metadata": {
        "id": "P6h6pN9aNwvI"
      },
      "outputs": [],
      "source": []
    },
    {
      "cell_type": "markdown",
      "source": [
        "1. What is Python, and why is it popular?\n",
        "->>> Python is a high-level, easy-to-read programming language used for web development, data analysis, machine learning, automation, and more.\n",
        "It's popular because:\n",
        "\n",
        "It's easy to learn.\n",
        "\n",
        "It has clean and simple syntax.\n",
        "\n",
        "It has a large community and many useful libraries.\n",
        "\n",
        "2. What is an interpreter in Python?\n",
        "->>An interpreter is a program that reads and runs Python code line by line, translating it into actions your computer understands.\n",
        "\n",
        "3. What are pre-defined keywords in Python?\n",
        "->> Keywords are special words that Python uses for specific purposes (like if, for, while, def).\n",
        "They can't be used as variable names because they have a fixed meaning in the language.\n",
        "\n",
        "4. Can keywords be used as variable names?\n",
        "->> No, you cannot use keywords as variable names.\n",
        "Example:\n",
        "\n",
        "python\n",
        "Copy\n",
        "Edit\n",
        "5. What is mutability in Python?\n",
        "->> Mutability means whether a value (like a list or string) can be changed after it is created.\n",
        "\n",
        "Mutable = can be changed (like lists).\n",
        "\n",
        "Immutable = cannot be changed (like strings, tuples).\n",
        "\n",
        "6. Why are lists mutable, but tuples are immutable?\n",
        "->> Lists are designed to store data that can change (add, remove, update items).\n",
        "\n",
        "Tuples are used when you want fixed data that should not be changed, for safety or efficiency.\n",
        "\n",
        "7. What is the difference between == and is opreatr in Python?\n",
        "->>\n",
        "== checks if values are equal.\n",
        "\n",
        "is checks if two variables point to the exact same object in memory.\n",
        "\n",
        "Example:\n",
        "\n",
        "python\n",
        "Copy\n",
        "Edit\n",
        "a = [1, 2]\n",
        "b = [1, 2]\n",
        "a == b  # ✅ True (same values)\n",
        "a is b  # ❌ False (different memory locations)\n",
        "8. What are logical operators in Python?\n",
        "->> Logical operators are used to combine conditions:\n",
        "\n",
        "and – both conditions must be True\n",
        "\n",
        "or – at least one condition is True\n",
        "\n",
        "not – reverses the condition (True becomes False, and vice versa)\n",
        "\n",
        "9. What is type casting in Python?\n",
        "->> Type casting is changing one data type to another.\n",
        "Example:\n",
        "\n",
        "python\n",
        "Copy\n",
        "Edit\n",
        "x = \"10\"\n",
        "y = int(x)  # changes string to integer\n",
        "10. What is the difference between implicit and explicit type casting?\n",
        "->> Implicit: Python automatically changes the type..\n",
        "\n",
        "11. What is the purpose of conditional statements in Python?\n",
        "->> They let your program make decisions.\n",
        "Example:\n",
        "\n",
        "python\n",
        "Copy\n",
        "Edit\n",
        "if age > 18:\n",
        "    print(\"You can vote\")\n",
        "12. How does the elif statement work?\n",
        "->> elif means \"else if\". It's used when you want to check multiple conditions one after the other.\n",
        "Example:\n",
        "\n",
        "python\n",
        "Copy\n",
        "Edit\n",
        "if score >= 90:\n",
        "    print(\"A\")\n",
        "elif score >= 80:\n",
        "    print(\"B\")\n",
        "else:\n",
        "    print(\"C\")\n",
        "13. What is the difference between for and while loops?\n",
        "->> for loop: Runs a set number of times.\n",
        "Example:\n",
        "\n",
        "python\n",
        "Copy\n",
        "Edit\n",
        "for i in range(5):  # Runs 5 times\n",
        "    print(i)\n",
        "while loop: Runs as long as a condition is True.\n",
        "Example:\n",
        "\n",
        "python\n",
        "Copy\n",
        "Edit\n",
        "while x < 10:\n",
        "    print(x)\n",
        "    x += 1\n",
        "14. Describe a scenario where a while loop is more suitable than a for loop.\n",
        "->> Use a while loop when you don’t know how many times the loop should run.\n",
        "Example:\n",
        "Ask a user to enter the correct password:\n",
        "\n",
        "python\n",
        "Copy\n",
        "Edit\n",
        "password = \"\"\n",
        "while password != \"secret\":\n",
        "    password = input(\"Enter password: \")\n",
        "print(\"Access granted\")"
      ],
      "metadata": {
        "id": "ZduMQjITN1VO"
      }
    },
    {
      "cell_type": "markdown",
      "source": [],
      "metadata": {
        "id": "G0jYeJRcNxph"
      }
    },
    {
      "cell_type": "code",
      "metadata": {
        "id": "ce050f46"
      },
      "source": [
        "# Write a Python program to print \"Hello, World!y\n",
        "# 1. Print \"Hello, World!\"\n",
        "print(\"Hello, World!\")"
      ],
      "execution_count": null,
      "outputs": []
    },
    {
      "cell_type": "code",
      "metadata": {
        "id": "e5eca013"
      },
      "source": [
        "#Write a Python program that displays your name and age\n",
        "# 2. Display your name and age\n",
        "name = \"Alice\"\n",
        "age = 25\n",
        "print(\"Name:\", name)\n",
        "print(\"Age:\", age)"
      ],
      "execution_count": null,
      "outputs": []
    },
    {
      "cell_type": "code",
      "metadata": {
        "id": "0d755482"
      },
      "source": [
        "# Write code to print all the pre-defined keywords in Python using the keyword library\n",
        "# 3. Print all pre-defined Python keywords using keyword library\n",
        "import keyword\n",
        "print(keyword.kwlist)"
      ],
      "execution_count": null,
      "outputs": []
    },
    {
      "cell_type": "code",
      "metadata": {
        "id": "3ddc6fbe"
      },
      "source": [
        "# 8 Write a program that checks if a given word is a Python keyword.\n",
        "# 4. Check if a word is a Python keyword\n",
        "import keyword\n",
        "\n",
        "word = input(\"Enter a word: \")\n",
        "if keyword.iskeyword(word):\n",
        "    print(f\"'{word}' is a Python keyword.\")\n",
        "else:\n",
        "    print(f\"'{word}' is not a Python keyword.\")"
      ],
      "execution_count": null,
      "outputs": []
    },
    {
      "cell_type": "code",
      "metadata": {
        "id": "1f17a60d"
      },
      "source": [
        "#\n",
        "# 5. Function to demonstrate mutable and immutable arguments\n",
        "def modify_data(a, b):\n",
        "    a = a + 1       # Immutable (int)\n",
        "    b.append(4)     # Mutable (list)\n",
        "    print(\"Inside function:\", a, b)\n",
        "\n",
        "x = 5\n",
        "y = [1, 2, 3]\n",
        "modify_data(x, y)\n",
        "print(\"Outside function:\", x, y)"
      ],
      "execution_count": null,
      "outputs": []
    },
    {
      "cell_type": "code",
      "metadata": {
        "id": "6bced901"
      },
      "source": [
        "# 6. Basic arithmetic operations\n",
        "a = float(input(\"Enter first number: \"))\n",
        "b = float(input(\"Enter second number: \"))\n",
        "\n",
        "print(\"Addition:\", a + b)\n",
        "print(\"Subtraction:\", a - b)\n",
        "print(\"Multiplication:\", a * b)\n",
        "print(\"Division:\", a / b)"
      ],
      "execution_count": null,
      "outputs": []
    },
    {
      "cell_type": "code",
      "metadata": {
        "id": "345c02ad"
      },
      "source": [
        "# 7. Logical operators demonstration\n",
        "x = int(input(\"Enter a number: \"))\n",
        "print(x > 0 and x < 100)\n",
        "print(x < 0 or x > 100)\n",
        "print(not (x == 50))"
      ],
      "execution_count": null,
      "outputs": []
    },
    {
      "cell_type": "code",
      "metadata": {
        "id": "d13ba7cc"
      },
      "source": [
        "# 8. List vs Tuple (mutability)\n",
        "my_list = [1, 2, 3]\n",
        "my_tuple = (1, 2, 3)\n",
        "\n",
        "# Changing list\n",
        "my_list[0] = 100\n",
        "print(\"Modified list:\", my_list)\n",
        "\n",
        "# Trying to change tuple will raise an error\n",
        "try:\n",
        "    my_tuple[0] = 100\n",
        "except TypeError:\n",
        "    print(\"Cannot modify tuple:\", my_tuple)"
      ],
      "execution_count": null,
      "outputs": []
    },
    {
      "cell_type": "code",
      "metadata": {
        "id": "9c310ff6"
      },
      "source": [
        "# 9. Convert user input to int, float, and bool\n",
        "user_input = input(\"Enter something: \")\n",
        "print(\"As integer:\", int(user_input))\n",
        "print(\"As float:\", float(user_input))\n",
        "print(\"As boolean:\", bool(user_input))"
      ],
      "execution_count": null,
      "outputs": []
    },
    {
      "cell_type": "code",
      "metadata": {
        "id": "a372291f"
      },
      "source": [
        "# 10. Type casting list elements\n",
        "str_list = ['1', '2', '3']\n",
        "int_list = [int(i) for i in str_list]\n",
        "print(\"Integer list:\", int_list)"
      ],
      "execution_count": null,
      "outputs": []
    },
    {
      "cell_type": "code",
      "metadata": {
        "id": "dbb92ff3"
      },
      "source": [
        "# 11. Check if number is positive, negative, or zero\n",
        "num = float(input(\"Enter a number: \"))\n",
        "\n",
        "if num > 0:\n",
        "    print(\"Positive\")\n",
        "elif num < 0:\n",
        "    print(\"Negative\")\n",
        "else:\n",
        "    print(\"Zero\")"
      ],
      "execution_count": null,
      "outputs": []
    }
  ]
}